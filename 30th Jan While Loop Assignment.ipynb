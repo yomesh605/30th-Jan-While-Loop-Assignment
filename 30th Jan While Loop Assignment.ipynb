{
 "cells": [
  {
   "cell_type": "code",
   "execution_count": null,
   "id": "c904eaf3-1dcf-42c0-8086-293b00f227bb",
   "metadata": {},
   "outputs": [],
   "source": [
    "Q1. Write a program to accept percentage from the user and display the grade acoording to the following:\n",
    "    \n",
    "Marks                 Grade\n",
    "\n",
    ">90                   A\n",
    ">80 and <=90          B\n",
    ">=60 and <=80         C\n",
    "Below 60              D\n"
   ]
  },
  {
   "cell_type": "code",
   "execution_count": 10,
   "id": "355ba380-68b6-47fc-9de2-86c27a26cea5",
   "metadata": {},
   "outputs": [
    {
     "name": "stdin",
     "output_type": "stream",
     "text": [
      "Enter your Percentage 80\n"
     ]
    },
    {
     "name": "stdout",
     "output_type": "stream",
     "text": [
      "You will be Rewarded Grade-C\n"
     ]
    }
   ],
   "source": [
    "Percentage = int(input(\"Enter your Percentage\"))\n",
    "if Percentage > 90:\n",
    "    print(\"You will be Rewarded Grade-A\")\n",
    "elif Percentage > 80 and Percentage <= 90:\n",
    "    print(\"You will be Rewarded Grade-B\")\n",
    "elif Percentage >= 60 and Percentage <= 80:\n",
    "    print(\"You will be Rewarded Grade-C\")\n",
    "else:\n",
    "    print(\"You will be Rewarded Grade-D\")"
   ]
  },
  {
   "cell_type": "code",
   "execution_count": null,
   "id": "c97db999-3364-4870-a86b-87ebed8c9db1",
   "metadata": {},
   "outputs": [],
   "source": [
    "Q2. Write a program to accept the Cost Price of a Bike and display the Road Tax to be Paid according to the following Criteria:\n",
    "    \n",
    "Tax            CP\n",
    "15             >100000\n",
    "10             > 50000 and <= 100000\n",
    "5              <= 50000"
   ]
  },
  {
   "cell_type": "code",
   "execution_count": 16,
   "id": "fccc92da-e34f-4791-9a5d-987b4489e50b",
   "metadata": {},
   "outputs": [
    {
     "name": "stdin",
     "output_type": "stream",
     "text": [
      "Enter Your Costprice 49999\n"
     ]
    },
    {
     "name": "stdout",
     "output_type": "stream",
     "text": [
      "You Need To Pay Tax of 5%\n"
     ]
    }
   ],
   "source": [
    "CostPrice = int(input(\"Enter Your Costprice\"))\n",
    "if CostPrice > 100000:\n",
    "    print(\"You Need To Pay Tax of 15%\")\n",
    "elif CostPrice > 50000 and CostPrice <= 100000:\n",
    "    print(\"You Need To Pay Tax of 10%\")\n",
    "else:\n",
    "    print(\"You Need To Pay Tax of 5%\")"
   ]
  },
  {
   "cell_type": "code",
   "execution_count": null,
   "id": "7b14a290-5bf0-43f4-97ff-6a5c7586ca0d",
   "metadata": {},
   "outputs": [],
   "source": [
    "Q3. Check How many times a given number can be divided by 3 before it is less than or equal to 10"
   ]
  },
  {
   "cell_type": "code",
   "execution_count": 3,
   "id": "38119096-329b-454e-9895-c5491cda202c",
   "metadata": {},
   "outputs": [
    {
     "name": "stdout",
     "output_type": "stream",
     "text": [
      "The No. of Iteration is: 4\n"
     ]
    }
   ],
   "source": [
    "count = 0\n",
    "number = 300\n",
    "while number > 10:\n",
    "    number = number/3\n",
    "    count = count + 1\n",
    "print(\"The No. of Iteration is:\", count)"
   ]
  },
  {
   "cell_type": "code",
   "execution_count": null,
   "id": "3cc8b311-84d9-47e3-bf3d-182ba03cea76",
   "metadata": {},
   "outputs": [],
   "source": [
    "Q4. Why and when to use a while loop in a python give a detailed description with Example"
   ]
  },
  {
   "cell_type": "code",
   "execution_count": null,
   "id": "63207bbe-70b2-4686-bfaf-73a0e068b9cc",
   "metadata": {},
   "outputs": [
    {
     "ename": "SyntaxError",
     "evalue": "invalid syntax (1732979706.py, line 1)",
     "output_type": "error",
     "traceback": [
      "\u001b[0;36m  Cell \u001b[0;32mIn[4], line 1\u001b[0;36m\u001b[0m\n\u001b[0;31m    Python while loop is used to run a block code until a certain condition is met.\u001b[0m\n\u001b[0m           ^\u001b[0m\n\u001b[0;31mSyntaxError\u001b[0m\u001b[0;31m:\u001b[0m invalid syntax\n"
     ]
    }
   ],
   "source": [
    "Python while loop is used to run a block code until a certain condition is met.\n",
    "\n",
    "The syntax of while loop is:\n",
    "\n",
    "while condition:\n",
    "    # body of while loop\n",
    "Here,\n",
    "\n",
    "A while loop evaluates the condition\n",
    "If the condition evaluates to True, the code inside the while loop is executed.\n",
    "condition is evaluated again.\n",
    "This process continues until the condition is False.\n",
    "When condition evaluates to False, the loop stops.\n"
   ]
  },
  {
   "cell_type": "code",
   "execution_count": 5,
   "id": "142d9443-600d-4d50-9916-de3287860ff4",
   "metadata": {},
   "outputs": [
    {
     "name": "stdout",
     "output_type": "stream",
     "text": [
      "1\n",
      "2\n",
      "3\n",
      "4\n",
      "5\n"
     ]
    }
   ],
   "source": [
    "#Program to display number from 1 to 5:\n",
    "\n",
    "i = 1\n",
    "n = 5\n",
    "\n",
    "while i<=n:\n",
    "    print(i)\n",
    "    i = i +1"
   ]
  },
  {
   "cell_type": "code",
   "execution_count": null,
   "id": "a7554b71-6718-44b4-8b3c-37fa2e1a32b7",
   "metadata": {},
   "outputs": [],
   "source": [
    "Q4. Use Nested While Loop to print 3 different patterns"
   ]
  },
  {
   "cell_type": "code",
   "execution_count": 6,
   "id": "3c772592-792f-4da2-98f7-8cde44b7cab3",
   "metadata": {},
   "outputs": [
    {
     "name": "stdout",
     "output_type": "stream",
     "text": [
      "1\n",
      "12\n",
      "123\n",
      "1234\n",
      "12345\n"
     ]
    }
   ],
   "source": [
    "i = 1\n",
    "while i <= 5:\n",
    "    j = 1\n",
    "    while j <= i:\n",
    "        print(j, end = \"\")\n",
    "        j = j+1\n",
    "    print(\"\")\n",
    "    i = i + 1\n",
    "        "
   ]
  },
  {
   "cell_type": "code",
   "execution_count": null,
   "id": "d35715d0-c9d6-4a96-81fa-5492c6977d7c",
   "metadata": {},
   "outputs": [],
   "source": [
    "Q5. Reverse a while loop to display a numbers from 10 to 1"
   ]
  },
  {
   "cell_type": "code",
   "execution_count": 7,
   "id": "8f15cd2e-45db-4099-93a8-1d309c992b9e",
   "metadata": {},
   "outputs": [
    {
     "name": "stdout",
     "output_type": "stream",
     "text": [
      "10\n",
      "9\n",
      "8\n",
      "7\n",
      "6\n",
      "5\n",
      "4\n",
      "3\n",
      "2\n",
      "1\n"
     ]
    }
   ],
   "source": [
    "i = 10\n",
    "while i > 0 :\n",
    "    print(i)\n",
    "    i = i-1"
   ]
  },
  {
   "cell_type": "code",
   "execution_count": null,
   "id": "5d971f4d-3a6d-48a6-a4b4-79563f6ff973",
   "metadata": {},
   "outputs": [],
   "source": []
  }
 ],
 "metadata": {
  "kernelspec": {
   "display_name": "Python 3 (ipykernel)",
   "language": "python",
   "name": "python3"
  },
  "language_info": {
   "codemirror_mode": {
    "name": "ipython",
    "version": 3
   },
   "file_extension": ".py",
   "mimetype": "text/x-python",
   "name": "python",
   "nbconvert_exporter": "python",
   "pygments_lexer": "ipython3",
   "version": "3.10.8"
  }
 },
 "nbformat": 4,
 "nbformat_minor": 5
}
